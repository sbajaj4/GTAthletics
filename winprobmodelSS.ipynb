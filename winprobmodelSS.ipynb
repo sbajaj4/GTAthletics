{
 "cells": [
  {
   "cell_type": "code",
   "execution_count": 55,
   "id": "baa52890",
   "metadata": {},
   "outputs": [
    {
     "name": "stdout",
     "output_type": "stream",
     "text": [
      "Training Accuracy %: 79.61\n",
      "Test Accuracy %: 79.98\n"
     ]
    }
   ],
   "source": [
    "import pandas as pd\n",
    "import numpy as np\n",
    "from sklearn.linear_model import LogisticRegression\n",
    "from sklearn.metrics import accuracy_score\n",
    "pb1 = pd.read_csv('2017_games.csv')\n",
    "pb2 = pd.read_csv('2018_games.csv')\n",
    "pb3 = pd.read_csv('2019_games.csv')\n",
    "pb4 = pd.read_csv('2020_games.csv')\n",
    "pb5 = pd.read_csv('2022_games.csv')\n",
    "pbp = pd.concat([pb1,pb2,pb3,pb4,pb5], axis = 0)\n",
    "\n",
    "games = pbp['game_id'].unique()\n",
    "train_games = np.random.choice(games, size=int(0.75 * len(games)), replace=False)\n",
    "train = pbp[pbp['game_id'].isin(train_games)]\n",
    "test = pbp[~pbp['game_id'].isin(train_games)]\n",
    "X_train = train.drop(['game_id', 'away_score','home_score','year', 'home_win'], axis=1) \n",
    "y_train = train['home_win']\n",
    "\n",
    "result = LogisticRegression().fit(X_train, y_train)\n",
    "train_predictions = result.predict(X_train)\n",
    "train_predictions_01 = np.round(train_predictions)\n",
    "train_accuracy = accuracy_score(y_train, train_predictions_01)\n",
    "\n",
    "X_test = test.drop(['game_id', 'away_score','home_score','year', 'home_win'], axis=1)\n",
    "test_predictions = result.predict(X_test)\n",
    "test_predictions_01 = np.round(test_predictions)\n",
    "y_test = test['home_win']\n",
    "test_accuracy = accuracy_score(y_test, test_predictions_01)\n",
    "\n",
    "print(f\"Training Accuracy %: {round(100 * train_accuracy, 2)}\")\n",
    "print(f\"Test Accuracy %: {round(100 * test_accuracy, 2)}\")"
   ]
  },
  {
   "cell_type": "code",
   "execution_count": null,
   "id": "52465e40",
   "metadata": {},
   "outputs": [],
   "source": []
  }
 ],
 "metadata": {
  "kernelspec": {
   "display_name": "Python 3 (ipykernel)",
   "language": "python",
   "name": "python3"
  },
  "language_info": {
   "codemirror_mode": {
    "name": "ipython",
    "version": 3
   },
   "file_extension": ".py",
   "mimetype": "text/x-python",
   "name": "python",
   "nbconvert_exporter": "python",
   "pygments_lexer": "ipython3",
   "version": "3.11.4"
  }
 },
 "nbformat": 4,
 "nbformat_minor": 5
}
