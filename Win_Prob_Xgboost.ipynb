{
  "nbformat": 4,
  "nbformat_minor": 0,
  "metadata": {
    "colab": {
      "provenance": [],
      "mount_file_id": "1YIfh4o8wFs3IGatx-Gib8E38hTlEYdNJ",
      "authorship_tag": "ABX9TyOYXM28I6UQ+BEshzKdlf4y",
      "include_colab_link": true
    },
    "kernelspec": {
      "name": "python3",
      "display_name": "Python 3"
    },
    "language_info": {
      "name": "python"
    }
  },
  "cells": [
    {
      "cell_type": "markdown",
      "metadata": {
        "id": "view-in-github",
        "colab_type": "text"
      },
      "source": [
        "<a href=\"https://colab.research.google.com/github/cpriest7/DSGT-Athletics-SubTeam7/blob/main/Win_Prob_Xgboost.ipynb\" target=\"_parent\"><img src=\"https://colab.research.google.com/assets/colab-badge.svg\" alt=\"Open In Colab\"/></a>"
      ]
    },
    {
      "cell_type": "code",
      "source": [
        "from google.colab import drive\n",
        "drive.mount('/content/drive')"
      ],
      "metadata": {
        "colab": {
          "base_uri": "https://localhost:8080/"
        },
        "id": "uErDxIIwKkc1",
        "outputId": "4e9e15c3-f2c2-4541-ec4c-8b2bfb073d91"
      },
      "execution_count": null,
      "outputs": [
        {
          "output_type": "stream",
          "name": "stdout",
          "text": [
            "Drive already mounted at /content/drive; to attempt to forcibly remount, call drive.mount(\"/content/drive\", force_remount=True).\n"
          ]
        }
      ]
    },
    {
      "cell_type": "code",
      "execution_count": 147,
      "metadata": {
        "colab": {
          "base_uri": "https://localhost:8080/"
        },
        "id": "samSel9-KW58",
        "outputId": "da8ccecd-98b6-4008-93da-13baef913f31"
      },
      "outputs": [
        {
          "output_type": "stream",
          "name": "stdout",
          "text": [
            "Training Accuracy %: 79.6\n",
            "Test Accuracy %: 80.29\n"
          ]
        }
      ],
      "source": [
        "import pandas as pd\n",
        "import numpy as np\n",
        "from sklearn.linear_model import LogisticRegression\n",
        "from sklearn.metrics import accuracy_score\n",
        "pb1 = pd.read_csv('/content/drive/MyDrive/Colab Notebooks/2017_games.csv')\n",
        "pb2 = pd.read_csv('/content/drive/MyDrive/Colab Notebooks/2018_games.csv')\n",
        "pb3 = pd.read_csv('/content/drive/MyDrive/Colab Notebooks/2019_games.csv')\n",
        "pb4 = pd.read_csv('/content/drive/MyDrive/Colab Notebooks/2020_games.csv')\n",
        "pb5 = pd.read_csv('/content/drive/MyDrive/Colab Notebooks/2022_games.csv')\n",
        "pbp = pd.concat([pb1,pb2,pb3,pb4,pb5], axis = 0)\n",
        "\n",
        "games = pbp['game_id'].unique()\n",
        "train_games = np.random.choice(games, size=int(0.75 * len(games)), replace=False)\n",
        "train = pbp[pbp['game_id'].isin(train_games)]\n",
        "test = pbp[~pbp['game_id'].isin(train_games)]\n",
        "X_train = train.drop(['game_id', 'away_score','home_score','year', 'home_win'], axis=1)\n",
        "y_train = train['home_win']\n",
        "\n",
        "result = LogisticRegression().fit(X_train, y_train)\n",
        "train_predictions = result.predict(X_train)\n",
        "train_predictions_01 = np.round(train_predictions)\n",
        "train_accuracy = accuracy_score(y_train, train_predictions_01)\n",
        "\n",
        "X_test = test.drop(['game_id', 'away_score','home_score','year', 'home_win'], axis=1)\n",
        "test_predictions = result.predict(X_test)\n",
        "test_predictions_01 = np.round(test_predictions)\n",
        "y_test = test['home_win']\n",
        "test_accuracy = accuracy_score(y_test, test_predictions_01)\n",
        "\n",
        "print(f\"Training Accuracy %: {round(100 * train_accuracy, 2)}\")\n",
        "print(f\"Test Accuracy %: {round(100 * test_accuracy, 2)}\")"
      ]
    },
    {
      "cell_type": "code",
      "source": [
        "#Used code from https://xgboost.readthedocs.io/en/stable/get_started.html\n",
        "from xgboost import XGBClassifier\n",
        "bst = XGBClassifier(n_estimators=2, max_depth=7, subsample=0.99, min_child_weight=36, learning_rate=0.5, objective='binary:logistic')\n",
        "bst.fit(X_train, y_train)\n",
        "preds = bst.predict(X_test)\n",
        "test_accuracy = accuracy_score(y_test, preds)\n",
        "print(f\"Test Accuracy %: {round(100 * test_accuracy, 2)}\")"
      ],
      "metadata": {
        "colab": {
          "base_uri": "https://localhost:8080/"
        },
        "id": "YQpmEy_saaOA",
        "outputId": "ca31d41b-0f8e-463b-bfdb-65d7797913ce"
      },
      "execution_count": 151,
      "outputs": [
        {
          "output_type": "stream",
          "name": "stdout",
          "text": [
            "Test Accuracy %: 78.98\n"
          ]
        }
      ]
    },
    {
      "cell_type": "code",
      "source": [
        "#Used code from https://statology.org/plot-logistic-regression-in-python/\n",
        "import seaborn as sns\n",
        "x = train['possession']\n",
        "y = train['home_win']\n",
        "sns.regplot(x=x, y=y, data=train, logistic=True, ci=None)"
      ],
      "metadata": {
        "colab": {
          "base_uri": "https://localhost:8080/",
          "height": 467
        },
        "id": "jmKv5NOnk0KI",
        "outputId": "7c2fad75-c8b8-4c93-c513-8e4fdf8b79da"
      },
      "execution_count": 136,
      "outputs": [
        {
          "output_type": "execute_result",
          "data": {
            "text/plain": [
              "<Axes: xlabel='possession', ylabel='home_win'>"
            ]
          },
          "metadata": {},
          "execution_count": 136
        },
        {
          "output_type": "display_data",
          "data": {
            "text/plain": [
              "<Figure size 640x480 with 1 Axes>"
            ],
            "image/png": "[encoded data removed]"
          },
          "metadata": {}
        }
      ]
    }
  ]
}