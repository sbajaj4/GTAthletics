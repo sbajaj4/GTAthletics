{
 "cells": [
  {
   "cell_type": "code",
   "execution_count": 28,
   "id": "e89172fd",
   "metadata": {},
   "outputs": [
    {
     "name": "stdout",
     "output_type": "stream",
     "text": [
      "<pandas.core.groupby.generic.DataFrameGroupBy object at 0x176cae3d0>\n"
     ]
    }
   ],
   "source": []
  },
  {
   "cell_type": "code",
   "execution_count": 35,
   "id": "b1923f8c",
   "metadata": {},
   "outputs": [
    {
     "name": "stdout",
     "output_type": "stream",
     "text": [
      "Optimization terminated successfully.\n",
      "         Current function value: 0.423146\n",
      "         Iterations 7\n",
      "                           Logit Regression Results                           \n",
      "==============================================================================\n",
      "Dep. Variable:               home_win   No. Observations:               469310\n",
      "Model:                          Logit   Df Residuals:                   469305\n",
      "Method:                           MLE   Df Model:                            4\n",
      "Date:                Wed, 08 Nov 2023   Pseudo R-squ.:                  0.3391\n",
      "Time:                        15:16:52   Log-Likelihood:            -1.9859e+05\n",
      "converged:                       True   LL-Null:                   -3.0047e+05\n",
      "Covariance Type:            nonrobust   LLR p-value:                     0.000\n",
      "=====================================================================================\n",
      "                        coef    std err          z      P>|z|      [0.025      0.975]\n",
      "-------------------------------------------------------------------------------------\n",
      "const                 0.0543      0.011      5.083      0.000       0.033       0.075\n",
      "Unnamed: 0         3.183e-07   7.78e-09     40.895      0.000    3.03e-07    3.34e-07\n",
      "score_difference      0.2088      0.001    306.554      0.000       0.207       0.210\n",
      "seconds_remaining     0.0001    5.4e-06     27.710      0.000       0.000       0.000\n",
      "possession           -0.0430      0.008     -5.479      0.000      -0.058      -0.028\n",
      "=====================================================================================\n",
      "Training Accuracy %: 79.6\n",
      "Test Accuracy %: 80.1\n"
     ]
    }
   ],
   "source": [
    "import pandas as pd\n",
    "import numpy as np\n",
    "import statsmodels.api as sm\n",
    "pb1 = pd.read_csv('2017_games.csv')\n",
    "pb2 = pd.read_csv('2018_games.csv')\n",
    "pb3 = pd.read_csv('2019_games.csv')\n",
    "pb4 = pd.read_csv('2020_games.csv')\n",
    "pb5 = pd.read_csv('2022_games.csv')\n",
    "pbp = pd.concat([pb1,pb2,pb3,pb4,pb5], axis = 0)\n",
    "games = pbp['game_id'].unique()\n",
    "train_games = np.random.choice(games, size=int(0.75 * len(games)), replace=False)\n",
    "train = pbp[pbp['game_id'].isin(train_games)]\n",
    "test = pbp[~pbp['game_id'].isin(train_games)]\n",
    "X_train = train.drop(['game_id', 'away_score','home_score','year', 'home_win'], axis=1)  # Assuming 'home_win' is the target variable\n",
    "y_train = train['home_win']\n",
    "model = sm.Logit(y_train, sm.add_constant(X_train))\n",
    "result = model.fit()\n",
    "print(result.summary())\n",
    "train_predictions = result.predict(sm.add_constant(X_train))\n",
    "train_predictions_01 = np.round(train_predictions)\n",
    "train_accuracy = accuracy_score(y_train, train_predictions_01)\n",
    "X_test = test.drop(['game_id', 'away_score','home_score','year', 'home_win'], axis=1)\n",
    "test_predictions = result.predict(sm.add_constant(X_test))\n",
    "test_predictions_01 = np.round(test_predictions)\n",
    "y_test = test['home_win']\n",
    "test_accuracy = accuracy_score(y_test, test_predictions_01)\n",
    "\n",
    "print(f\"Training Accuracy %: {round(100 * train_accuracy, 1)}\")\n",
    "print(f\"Test Accuracy %: {round(100 * test_accuracy, 1)}\")\n"
   ]
  },
  {
   "cell_type": "code",
   "execution_count": null,
   "id": "4078827c",
   "metadata": {},
   "outputs": [],
   "source": []
  }
 ],
 "metadata": {
  "kernelspec": {
   "display_name": "Python 3 (ipykernel)",
   "language": "python",
   "name": "python3"
  },
  "language_info": {
   "codemirror_mode": {
    "name": "ipython",
    "version": 3
   },
   "file_extension": ".py",
   "mimetype": "text/x-python",
   "name": "python",
   "nbconvert_exporter": "python",
   "pygments_lexer": "ipython3",
   "version": "3.11.4"
  }
 },
 "nbformat": 4,
 "nbformat_minor": 5
}
