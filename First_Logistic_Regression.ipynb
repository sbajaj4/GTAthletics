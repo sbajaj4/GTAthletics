{
  "nbformat": 4,
  "nbformat_minor": 0,
  "metadata": {
    "colab": {
      "provenance": [],
      "toc_visible": true,
      "authorship_tag": "ABX9TyPcU+bivW5aa+CPCwFi7DGb",
      "include_colab_link": true
    },
    "kernelspec": {
      "name": "python3",
      "display_name": "Python 3"
    },
    "language_info": {
      "name": "python"
    }
  },
  "cells": [
    {
      "cell_type": "markdown",
      "metadata": {
        "id": "view-in-github",
        "colab_type": "text"
      },
      "source": [
        "<a href=\"https://colab.research.google.com/github/cpriest7/DSGT-Athletics-SubTeam7/blob/main/First_Logistic_Regression.ipynb\" target=\"_parent\"><img src=\"https://colab.research.google.com/assets/colab-badge.svg\" alt=\"Open In Colab\"/></a>"
      ]
    },
    {
      "cell_type": "code",
      "source": [
        "from google.colab import drive\n",
        "drive.mount('/drive')"
      ],
      "metadata": {
        "colab": {
          "base_uri": "https://localhost:8080/"
        },
        "id": "Z6vBu4a5izbE",
        "outputId": "17cfb4ea-b42f-4727-8dcc-4f836980bf63"
      },
      "execution_count": 3,
      "outputs": [
        {
          "output_type": "stream",
          "name": "stdout",
          "text": [
            "Mounted at /drive\n"
          ]
        }
      ]
    },
    {
      "cell_type": "code",
      "source": [
        "import pandas as pd\n",
        "import matplotlib.pyplot as plt\n",
        "import numpy as np\n",
        "from sklearn.linear_model import LogisticRegression\n",
        "from sklearn.metrics import classification_report, confusion_matrix\n",
        "from sklearn.model_selection import train_test_split\n",
        "from sklearn import metrics\n",
        "\n",
        "df_2017 = pd.read_csv('2017_games.csv')\n",
        "df_2018 = pd.read_csv('2018_games.csv')\n",
        "df_2019 = pd.read_csv('2019_games.csv')\n",
        "df_2020 = pd.read_csv('2020_games.csv')\n",
        "df_2022 = pd.read_csv('2022_games.csv')\n",
        "\n",
        "df_combined = pd.concat([df_2017, df_2018, df_2019, df_2020, df_2022], axis=0)\n",
        "df_training = df_combined[[\"away_score\", \"home_score\", \"score_difference\", \"seconds_remaining\", \"possession\"]]\n",
        "df_wins = df_combined[\"home_win\"]\n",
        "\n",
        "#Choosing the random sample using the built-in train_test_split function\n",
        "x_train, x_test, y_train, y_test = train_test_split(df_training, df_wins, test_size = 0.25, random_state = 42)\n",
        "print(x_train.shape)\n",
        "print(x_test.shape)\n",
        "\n",
        "#Choosing the random sample based on games\n",
        "gameIDs = df_combined['game_id'].unique()\n",
        "sampleIDs = np.random.choice(gameIDs, size = 500)\n",
        "df_game_testing = df_combined.loc[df_combined['game_id'].isin(sampleIDs)]\n",
        "df_game_training = df_combined.loc[~df_combined['game_id'].isin(sampleIDs)]\n",
        "x_game_train = df_game_training[[\"away_score\", \"home_score\", \"score_difference\", \"seconds_remaining\", \"possession\"]]\n",
        "y_game_train = df_game_training[\"home_win\"]\n",
        "x_game_test = df_game_testing[[\"away_score\", \"home_score\", \"score_difference\", \"seconds_remaining\", \"possession\"]]\n",
        "y_game_test = df_game_testing[\"home_win\"]\n",
        "print(x_game_train.shape)\n",
        "print(x_game_test.shape)\n"
      ],
      "metadata": {
        "colab": {
          "base_uri": "https://localhost:8080/"
        },
        "id": "dVXOJiECiehZ",
        "outputId": "80e5db78-c612-4022-8acf-e0d14a6a4ba6"
      },
      "execution_count": 93,
      "outputs": [
        {
          "output_type": "stream",
          "name": "stdout",
          "text": [
            "(468300, 5)\n",
            "(156101, 5)\n",
            "(485741, 5)\n",
            "(138660, 5)\n"
          ]
        }
      ]
    },
    {
      "cell_type": "code",
      "source": [
        "import pandas as pd\n",
        "import matplotlib.pyplot as plt\n",
        "import numpy as np\n",
        "from sklearn.linear_model import LogisticRegression\n",
        "from sklearn.metrics import classification_report, confusion_matrix\n",
        "from sklearn.model_selection import train_test_split\n",
        "from sklearn import metrics\n",
        "\n",
        "#Using different solvers with random_state = 0. Using model.score\n",
        "#newton-cg: 0.7970855267688552\n",
        "#lbfgs: 0.7969189671381052\n",
        "#liblinear: 0.7969317794173937\n",
        "#sag: 0.797050293000812 -> Takes long time\n",
        "#saga: 0.797048691465901 -> Takes long time\n",
        "\n",
        "#Using different regularization strength didn't make a difference\n",
        "\n",
        "#Trying different penalties\n",
        "#Default/L2: 0.7969301778824825\n",
        "#L1: 0.7970919329084996\n",
        "\n",
        "model = LogisticRegression(penalty='l1', solver='liblinear', C=0.01, random_state=0)\n",
        "\n",
        "model.fit(x_game_train, y_game_train)\n",
        "\n",
        "#FUNCTIONS TO SEE LOGISTIC REGRESSION MODEL INFORMATION\n",
        "#model.classes_ -> Distinct values in result\n",
        "#model.intercept_\n",
        "#model.coef_\n",
        "#model.predict_proba(df_training)\n",
        "#model.predict(df_training)\n",
        "#model.score(df_training, df_wins)\n",
        "#confusion_matrix(df_wins, model.predict(df_training))\n",
        "\n",
        "#RESULTS\n",
        "#Using train_test_split\n",
        "#Confusion Matrix: [31912, 20788\n",
        "#                   10965, 92436]\n",
        "\n",
        "#Sorting by games\n",
        "#Confusion Matrix: [29059, 20852\n",
        "#                   8447, 80302]\n",
        "\n",
        "y_pred = model.predict(x_game_test)\n",
        "classification_report(y_game_test, y_pred)\n",
        "\n",
        "matrix = metrics.confusion_matrix(y_game_test, y_pred)\n",
        "matrix"
      ],
      "metadata": {
        "colab": {
          "base_uri": "https://localhost:8080/"
        },
        "id": "3J7HlS37ku5b",
        "outputId": "9e4c0c60-4751-49ca-e678-e5252d6bd906"
      },
      "execution_count": 96,
      "outputs": [
        {
          "output_type": "execute_result",
          "data": {
            "text/plain": [
              "array([[29059, 20852],\n",
              "       [ 8447, 80302]])"
            ]
          },
          "metadata": {},
          "execution_count": 96
        }
      ]
    }
  ]
}